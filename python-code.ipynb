{
 "cells": [
  {
   "cell_type": "code",
   "execution_count": 2,
   "id": "0532a361",
   "metadata": {
    "ExecuteTime": {
     "end_time": "2024-06-16T10:15:49.396620Z",
     "start_time": "2024-06-16T10:15:47.995969Z"
    }
   },
   "outputs": [],
   "source": [
    "import os, pandas as pd, numpy as np"
   ]
  },
  {
   "cell_type": "code",
   "execution_count": 3,
   "id": "fd3e9cd0",
   "metadata": {
    "ExecuteTime": {
     "end_time": "2024-06-16T10:15:50.841477Z",
     "start_time": "2024-06-16T10:15:50.836891Z"
    }
   },
   "outputs": [],
   "source": [
    "os.chdir(\"C:\\\\Users\\\\SARATH\\\\OneDrive\\\\Desktop\\\\SCMA A1a\")"
   ]
  },
  {
   "cell_type": "code",
   "execution_count": 4,
   "id": "2c7b48a8",
   "metadata": {
    "ExecuteTime": {
     "end_time": "2024-06-16T10:16:04.084743Z",
     "start_time": "2024-06-16T10:15:52.236332Z"
    }
   },
   "outputs": [],
   "source": [
    "df=pd.read_csv(\"NSSO68.csv\",encoding=\"Latin-1\", low_memory=False)"
   ]
  },
  {
   "cell_type": "code",
   "execution_count": 5,
   "id": "550bbf03",
   "metadata": {
    "ExecuteTime": {
     "end_time": "2024-06-16T10:16:05.280199Z",
     "start_time": "2024-06-16T10:16:05.210652Z"
    }
   },
   "outputs": [
    {
     "data": {
      "text/html": [
       "<div>\n",
       "<style scoped>\n",
       "    .dataframe tbody tr th:only-of-type {\n",
       "        vertical-align: middle;\n",
       "    }\n",
       "\n",
       "    .dataframe tbody tr th {\n",
       "        vertical-align: top;\n",
       "    }\n",
       "\n",
       "    .dataframe thead th {\n",
       "        text-align: right;\n",
       "    }\n",
       "</style>\n",
       "<table border=\"1\" class=\"dataframe\">\n",
       "  <thead>\n",
       "    <tr style=\"text-align: right;\">\n",
       "      <th></th>\n",
       "      <th>slno</th>\n",
       "      <th>grp</th>\n",
       "      <th>Round_Centre</th>\n",
       "      <th>FSU_number</th>\n",
       "      <th>Round</th>\n",
       "      <th>Schedule_Number</th>\n",
       "      <th>Sample</th>\n",
       "      <th>Sector</th>\n",
       "      <th>state</th>\n",
       "      <th>State_Region</th>\n",
       "      <th>...</th>\n",
       "      <th>pickle_v</th>\n",
       "      <th>sauce_jam_v</th>\n",
       "      <th>Othrprocessed_v</th>\n",
       "      <th>Beveragestotal_v</th>\n",
       "      <th>foodtotal_v</th>\n",
       "      <th>foodtotal_q</th>\n",
       "      <th>state_1</th>\n",
       "      <th>Region</th>\n",
       "      <th>fruits_df_tt_v</th>\n",
       "      <th>fv_tot</th>\n",
       "    </tr>\n",
       "  </thead>\n",
       "  <tbody>\n",
       "    <tr>\n",
       "      <th>0</th>\n",
       "      <td>1</td>\n",
       "      <td>4.10E+31</td>\n",
       "      <td>1</td>\n",
       "      <td>41000</td>\n",
       "      <td>68</td>\n",
       "      <td>10</td>\n",
       "      <td>1</td>\n",
       "      <td>2</td>\n",
       "      <td>24</td>\n",
       "      <td>242</td>\n",
       "      <td>...</td>\n",
       "      <td>0.0</td>\n",
       "      <td>0.0</td>\n",
       "      <td>0.0</td>\n",
       "      <td>0.000000</td>\n",
       "      <td>1141.492400</td>\n",
       "      <td>30.942394</td>\n",
       "      <td>GUJ</td>\n",
       "      <td>2</td>\n",
       "      <td>12.000000</td>\n",
       "      <td>154.18</td>\n",
       "    </tr>\n",
       "    <tr>\n",
       "      <th>1</th>\n",
       "      <td>2</td>\n",
       "      <td>4.10E+31</td>\n",
       "      <td>1</td>\n",
       "      <td>41000</td>\n",
       "      <td>68</td>\n",
       "      <td>10</td>\n",
       "      <td>1</td>\n",
       "      <td>2</td>\n",
       "      <td>24</td>\n",
       "      <td>242</td>\n",
       "      <td>...</td>\n",
       "      <td>0.0</td>\n",
       "      <td>0.0</td>\n",
       "      <td>0.0</td>\n",
       "      <td>17.500000</td>\n",
       "      <td>1244.553500</td>\n",
       "      <td>29.286153</td>\n",
       "      <td>GUJ</td>\n",
       "      <td>2</td>\n",
       "      <td>333.000000</td>\n",
       "      <td>484.95</td>\n",
       "    </tr>\n",
       "    <tr>\n",
       "      <th>2</th>\n",
       "      <td>3</td>\n",
       "      <td>4.10E+31</td>\n",
       "      <td>1</td>\n",
       "      <td>41000</td>\n",
       "      <td>68</td>\n",
       "      <td>10</td>\n",
       "      <td>1</td>\n",
       "      <td>2</td>\n",
       "      <td>24</td>\n",
       "      <td>242</td>\n",
       "      <td>...</td>\n",
       "      <td>0.0</td>\n",
       "      <td>0.0</td>\n",
       "      <td>0.0</td>\n",
       "      <td>0.000000</td>\n",
       "      <td>1050.315400</td>\n",
       "      <td>31.527046</td>\n",
       "      <td>GUJ</td>\n",
       "      <td>2</td>\n",
       "      <td>35.000000</td>\n",
       "      <td>214.84</td>\n",
       "    </tr>\n",
       "    <tr>\n",
       "      <th>3</th>\n",
       "      <td>4</td>\n",
       "      <td>4.10E+31</td>\n",
       "      <td>1</td>\n",
       "      <td>41000</td>\n",
       "      <td>68</td>\n",
       "      <td>10</td>\n",
       "      <td>1</td>\n",
       "      <td>2</td>\n",
       "      <td>24</td>\n",
       "      <td>242</td>\n",
       "      <td>...</td>\n",
       "      <td>0.0</td>\n",
       "      <td>0.0</td>\n",
       "      <td>0.0</td>\n",
       "      <td>33.333333</td>\n",
       "      <td>1142.591667</td>\n",
       "      <td>27.834607</td>\n",
       "      <td>GUJ</td>\n",
       "      <td>2</td>\n",
       "      <td>168.333333</td>\n",
       "      <td>302.30</td>\n",
       "    </tr>\n",
       "    <tr>\n",
       "      <th>4</th>\n",
       "      <td>5</td>\n",
       "      <td>4.10E+31</td>\n",
       "      <td>1</td>\n",
       "      <td>41000</td>\n",
       "      <td>68</td>\n",
       "      <td>10</td>\n",
       "      <td>1</td>\n",
       "      <td>2</td>\n",
       "      <td>24</td>\n",
       "      <td>242</td>\n",
       "      <td>...</td>\n",
       "      <td>0.0</td>\n",
       "      <td>0.0</td>\n",
       "      <td>0.0</td>\n",
       "      <td>75.000000</td>\n",
       "      <td>945.249500</td>\n",
       "      <td>27.600713</td>\n",
       "      <td>GUJ</td>\n",
       "      <td>2</td>\n",
       "      <td>15.000000</td>\n",
       "      <td>148.00</td>\n",
       "    </tr>\n",
       "  </tbody>\n",
       "</table>\n",
       "<p>5 rows × 384 columns</p>\n",
       "</div>"
      ],
      "text/plain": [
       "   slno       grp  Round_Centre  FSU_number  Round  Schedule_Number  Sample  \\\n",
       "0     1  4.10E+31             1       41000     68               10       1   \n",
       "1     2  4.10E+31             1       41000     68               10       1   \n",
       "2     3  4.10E+31             1       41000     68               10       1   \n",
       "3     4  4.10E+31             1       41000     68               10       1   \n",
       "4     5  4.10E+31             1       41000     68               10       1   \n",
       "\n",
       "   Sector  state  State_Region  ...  pickle_v  sauce_jam_v  Othrprocessed_v  \\\n",
       "0       2     24           242  ...       0.0          0.0              0.0   \n",
       "1       2     24           242  ...       0.0          0.0              0.0   \n",
       "2       2     24           242  ...       0.0          0.0              0.0   \n",
       "3       2     24           242  ...       0.0          0.0              0.0   \n",
       "4       2     24           242  ...       0.0          0.0              0.0   \n",
       "\n",
       "   Beveragestotal_v  foodtotal_v  foodtotal_q  state_1  Region  \\\n",
       "0          0.000000  1141.492400    30.942394      GUJ       2   \n",
       "1         17.500000  1244.553500    29.286153      GUJ       2   \n",
       "2          0.000000  1050.315400    31.527046      GUJ       2   \n",
       "3         33.333333  1142.591667    27.834607      GUJ       2   \n",
       "4         75.000000   945.249500    27.600713      GUJ       2   \n",
       "\n",
       "   fruits_df_tt_v  fv_tot  \n",
       "0       12.000000  154.18  \n",
       "1      333.000000  484.95  \n",
       "2       35.000000  214.84  \n",
       "3      168.333333  302.30  \n",
       "4       15.000000  148.00  \n",
       "\n",
       "[5 rows x 384 columns]"
      ]
     },
     "execution_count": 5,
     "metadata": {},
     "output_type": "execute_result"
    }
   ],
   "source": [
    "df.head()"
   ]
  },
  {
   "cell_type": "code",
   "execution_count": 44,
   "id": "2d35a4db",
   "metadata": {
    "ExecuteTime": {
     "end_time": "2024-06-16T10:16:09.802843Z",
     "start_time": "2024-06-16T10:16:09.648192Z"
    }
   },
   "outputs": [],
   "source": [
    "MPH = df[df['state']==23]"
   ]
  },
  {
   "cell_type": "code",
   "execution_count": 45,
   "id": "32725550",
   "metadata": {
    "ExecuteTime": {
     "end_time": "2024-06-16T10:16:11.812225Z",
     "start_time": "2024-06-16T10:16:11.783885Z"
    }
   },
   "outputs": [
    {
     "data": {
      "text/plain": [
       "soyabean_q             4717\n",
       "soyabean_v             4717\n",
       "Land_Leased_out        4562\n",
       "Otherwise_possessed    4552\n",
       "Meals_Employer         4472\n",
       "                       ... \n",
       "cauli_q                   0\n",
       "parwal_q                  0\n",
       "bhindi_q                  0\n",
       "chillig_q                 0\n",
       "fv_tot                    0\n",
       "Length: 384, dtype: int64"
      ]
     },
     "execution_count": 45,
     "metadata": {},
     "output_type": "execute_result"
    }
   ],
   "source": [
    "MPH.isnull().sum().sort_values(ascending = False)"
   ]
  },
  {
   "cell_type": "code",
   "execution_count": 46,
   "id": "e4792270",
   "metadata": {
    "ExecuteTime": {
     "end_time": "2024-06-16T10:16:13.989311Z",
     "start_time": "2024-06-16T10:16:13.983296Z"
    }
   },
   "outputs": [
    {
     "data": {
      "text/plain": [
       "Index(['slno', 'grp', 'Round_Centre', 'FSU_number', 'Round', 'Schedule_Number',\n",
       "       'Sample', 'Sector', 'state', 'State_Region',\n",
       "       ...\n",
       "       'pickle_v', 'sauce_jam_v', 'Othrprocessed_v', 'Beveragestotal_v',\n",
       "       'foodtotal_v', 'foodtotal_q', 'state_1', 'Region', 'fruits_df_tt_v',\n",
       "       'fv_tot'],\n",
       "      dtype='object', length=384)"
      ]
     },
     "execution_count": 46,
     "metadata": {},
     "output_type": "execute_result"
    }
   ],
   "source": [
    "df.columns"
   ]
  },
  {
   "cell_type": "code",
   "execution_count": 47,
   "id": "995fbd7d",
   "metadata": {
    "ExecuteTime": {
     "end_time": "2024-06-16T10:20:50.710568Z",
     "start_time": "2024-06-16T10:20:50.703352Z"
    }
   },
   "outputs": [],
   "source": [
    "MPH_new = MPH[['state_1', 'District', 'Sector','Region','State_Region','ricetotal_q','wheattotal_q','moong_q','Milktotal_q','chicken_q','bread_q','foodtotal_q','Beveragestotal_v','Meals_At_Home']]"
   ]
  },
  {
   "cell_type": "code",
   "execution_count": 49,
   "id": "c51a30c5",
   "metadata": {
    "ExecuteTime": {
     "end_time": "2024-06-16T10:20:51.924641Z",
     "start_time": "2024-06-16T10:20:51.915336Z"
    }
   },
   "outputs": [
    {
     "data": {
      "text/plain": [
       "Meals_At_Home       26\n",
       "state_1              0\n",
       "District             0\n",
       "Sector               0\n",
       "Region               0\n",
       "State_Region         0\n",
       "ricetotal_q          0\n",
       "wheattotal_q         0\n",
       "moong_q              0\n",
       "Milktotal_q          0\n",
       "chicken_q            0\n",
       "bread_q              0\n",
       "foodtotal_q          0\n",
       "Beveragestotal_v     0\n",
       "dtype: int64"
      ]
     },
     "execution_count": 49,
     "metadata": {},
     "output_type": "execute_result"
    }
   ],
   "source": [
    "MPH_new.isnull().sum().sort_values(ascending = False)"
   ]
  },
  {
   "cell_type": "code",
   "execution_count": 50,
   "id": "42af1fb2",
   "metadata": {
    "ExecuteTime": {
     "end_time": "2024-06-16T10:20:53.377364Z",
     "start_time": "2024-06-16T10:20:53.372637Z"
    }
   },
   "outputs": [],
   "source": [
    "MPH_clean = MPH_new.copy()"
   ]
  },
  {
   "cell_type": "code",
   "execution_count": 51,
   "id": "72563526",
   "metadata": {
    "ExecuteTime": {
     "end_time": "2024-06-16T10:20:56.084026Z",
     "start_time": "2024-06-16T10:20:56.078287Z"
    }
   },
   "outputs": [],
   "source": [
    "MPH_clean.loc[:, 'Meals_At_Home'] = MPH_clean['Meals_At_Home'].fillna(MPH_new['Meals_At_Home'].mean())"
   ]
  },
  {
   "cell_type": "code",
   "execution_count": 52,
   "id": "5330a3c9",
   "metadata": {
    "ExecuteTime": {
     "end_time": "2024-06-16T10:21:00.719814Z",
     "start_time": "2024-06-16T10:21:00.711639Z"
    }
   },
   "outputs": [
    {
     "data": {
      "text/plain": [
       "state_1             False\n",
       "District            False\n",
       "Sector              False\n",
       "Region              False\n",
       "State_Region        False\n",
       "ricetotal_q         False\n",
       "wheattotal_q        False\n",
       "moong_q             False\n",
       "Milktotal_q         False\n",
       "chicken_q           False\n",
       "bread_q             False\n",
       "foodtotal_q         False\n",
       "Beveragestotal_v    False\n",
       "Meals_At_Home       False\n",
       "dtype: bool"
      ]
     },
     "execution_count": 52,
     "metadata": {},
     "output_type": "execute_result"
    }
   ],
   "source": [
    "MPH_clean.isnull().any()"
   ]
  },
  {
   "cell_type": "code",
   "execution_count": 14,
   "id": "7c188e84",
   "metadata": {
    "ExecuteTime": {
     "end_time": "2024-06-16T04:25:21.294749Z",
     "start_time": "2024-06-16T04:25:21.291497Z"
    }
   },
   "outputs": [],
   "source": [
    "# Outlier Checking"
   ]
  },
  {
   "cell_type": "code",
   "execution_count": 53,
   "id": "53723eaa",
   "metadata": {
    "ExecuteTime": {
     "end_time": "2024-06-16T10:22:13.080162Z",
     "start_time": "2024-06-16T10:22:12.710152Z"
    }
   },
   "outputs": [
    {
     "data": {
      "image/png": "[encoded data removed]",
      "text/plain": [
       "<Figure size 800x600 with 1 Axes>"
      ]
     },
     "metadata": {},
     "output_type": "display_data"
    }
   ],
   "source": [
    "import matplotlib.pyplot as plt\n",
    "# Assuming MPH_clean is your DataFrame\n",
    "plt.figure(figsize=(8, 6))\n",
    "plt.boxplot(MPH_clean['ricetotal_q'])\n",
    "plt.xlabel('ricetotal_q')\n",
    "plt.ylabel('Values')\n",
    "plt.title('Boxplot of ricetotal_q')\n",
    "plt.show()"
   ]
  },
  {
   "cell_type": "code",
   "execution_count": 54,
   "id": "adbfd8ac",
   "metadata": {
    "ExecuteTime": {
     "end_time": "2024-06-16T10:22:31.063124Z",
     "start_time": "2024-06-16T10:22:31.055234Z"
    }
   },
   "outputs": [],
   "source": [
    "rice1 = MPH_clean['ricetotal_q'].quantile(0.25)\n",
    "rice2 = MPH_clean['ricetotal_q'].quantile(0.75)\n",
    "iqr_rice = rice2-rice1\n",
    "up_limit = rice2 + 1.5*iqr_rice\n",
    "low_limit = rice1 - 1.5*iqr_rice"
   ]
  },
  {
   "cell_type": "code",
   "execution_count": 55,
   "id": "0ae50df0",
   "metadata": {
    "ExecuteTime": {
     "end_time": "2024-06-16T10:22:43.643572Z",
     "start_time": "2024-06-16T10:22:43.634294Z"
    }
   },
   "outputs": [],
   "source": [
    "MPH_clean=MPH_new[(MPH_new['ricetotal_q']<=up_limit)&(MPH_new['ricetotal_q']>=low_limit)]"
   ]
  },
  {
   "cell_type": "code",
   "execution_count": 56,
   "id": "bb56d36d",
   "metadata": {
    "ExecuteTime": {
     "end_time": "2024-06-16T10:23:15.268648Z",
     "start_time": "2024-06-16T10:23:15.119902Z"
    }
   },
   "outputs": [
    {
     "data": {
      "text/plain": [
       "{'whiskers': [<matplotlib.lines.Line2D at 0x2813a4f5590>,\n",
       "  <matplotlib.lines.Line2D at 0x2813a4f66d0>],\n",
       " 'caps': [<matplotlib.lines.Line2D at 0x2813a4f73d0>,\n",
       "  <matplotlib.lines.Line2D at 0x2813a4f7fd0>],\n",
       " 'boxes': [<matplotlib.lines.Line2D at 0x2813a4f4510>],\n",
       " 'medians': [<matplotlib.lines.Line2D at 0x2813a500b90>],\n",
       " 'fliers': [<matplotlib.lines.Line2D at 0x2813a392e10>],\n",
       " 'means': []}"
      ]
     },
     "execution_count": 56,
     "metadata": {},
     "output_type": "execute_result"
    },
    {
     "data": {
      "image/png": "[encoded data removed]",
      "text/plain": [
       "<Figure size 640x480 with 1 Axes>"
      ]
     },
     "metadata": {},
     "output_type": "display_data"
    }
   ],
   "source": [
    "plt.boxplot(MPH_clean['ricetotal_q'])"
   ]
  },
  {
   "cell_type": "code",
   "execution_count": 57,
   "id": "60373275",
   "metadata": {
    "ExecuteTime": {
     "end_time": "2024-06-16T10:23:19.022374Z",
     "start_time": "2024-06-16T10:23:19.011587Z"
    }
   },
   "outputs": [
    {
     "data": {
      "text/plain": [
       "array([49, 40, 41, 47, 39, 44, 42, 10, 38, 17, 13, 16, 12, 15, 14, 11, 50,\n",
       "        8,  4,  7,  3,  6,  5,  2,  9,  1, 23, 24, 22, 46, 30, 21, 18, 19,\n",
       "       20, 26, 32, 48, 43, 34, 35, 33, 37, 36, 45, 31, 29, 28, 27, 25],\n",
       "      dtype=int64)"
      ]
     },
     "execution_count": 57,
     "metadata": {},
     "output_type": "execute_result"
    }
   ],
   "source": [
    "MPH_clean['District'].unique()"
   ]
  },
  {
   "cell_type": "code",
   "execution_count": 58,
   "id": "37cdeaa5",
   "metadata": {
    "ExecuteTime": {
     "end_time": "2024-06-16T10:23:21.044003Z",
     "start_time": "2024-06-16T10:23:21.036312Z"
    }
   },
   "outputs": [],
   "source": [
    "# Replace values in the 'Sector' column\n",
    "MPH_clean.loc[:,'Sector'] = MPH_clean['Sector'].replace([1, 2], ['URBAN', 'RURAL'])"
   ]
  },
  {
   "cell_type": "code",
   "execution_count": 27,
   "id": "4338bcd0",
   "metadata": {
    "ExecuteTime": {
     "end_time": "2024-06-16T04:29:12.691488Z",
     "start_time": "2024-06-16T04:29:12.688111Z"
    }
   },
   "outputs": [],
   "source": [
    "#total consumption"
   ]
  },
  {
   "cell_type": "code",
   "execution_count": 61,
   "id": "97703b81",
   "metadata": {
    "ExecuteTime": {
     "end_time": "2024-06-16T10:23:35.351538Z",
     "start_time": "2024-06-16T10:23:35.346912Z"
    }
   },
   "outputs": [
    {
     "data": {
      "text/plain": [
       "Index(['state_1', 'District', 'Sector', 'Region', 'State_Region',\n",
       "       'ricetotal_q', 'wheattotal_q', 'moong_q', 'Milktotal_q', 'chicken_q',\n",
       "       'bread_q', 'foodtotal_q', 'Beveragestotal_v', 'Meals_At_Home',\n",
       "       'total_consumption'],\n",
       "      dtype='object')"
      ]
     },
     "execution_count": 61,
     "metadata": {},
     "output_type": "execute_result"
    }
   ],
   "source": [
    "MPH_clean.columns"
   ]
  },
  {
   "cell_type": "code",
   "execution_count": 62,
   "id": "5907b983",
   "metadata": {
    "ExecuteTime": {
     "end_time": "2024-06-16T10:24:00.625661Z",
     "start_time": "2024-06-16T10:24:00.615361Z"
    },
    "scrolled": true
   },
   "outputs": [],
   "source": [
    "MPH_clean.loc[:, 'total_consumption'] = MPH_clean[['ricetotal_q', 'wheattotal_q', 'moong_q', 'Milktotal_q', 'chicken_q', 'bread_q', 'foodtotal_q', 'Beveragestotal_v']].sum(axis=1)"
   ]
  },
  {
   "cell_type": "code",
   "execution_count": 63,
   "id": "08face5f",
   "metadata": {
    "ExecuteTime": {
     "end_time": "2024-06-16T10:24:02.553328Z",
     "start_time": "2024-06-16T10:24:02.537298Z"
    }
   },
   "outputs": [
    {
     "data": {
      "text/html": [
       "<div>\n",
       "<style scoped>\n",
       "    .dataframe tbody tr th:only-of-type {\n",
       "        vertical-align: middle;\n",
       "    }\n",
       "\n",
       "    .dataframe tbody tr th {\n",
       "        vertical-align: top;\n",
       "    }\n",
       "\n",
       "    .dataframe thead th {\n",
       "        text-align: right;\n",
       "    }\n",
       "</style>\n",
       "<table border=\"1\" class=\"dataframe\">\n",
       "  <thead>\n",
       "    <tr style=\"text-align: right;\">\n",
       "      <th></th>\n",
       "      <th>state_1</th>\n",
       "      <th>District</th>\n",
       "      <th>Sector</th>\n",
       "      <th>Region</th>\n",
       "      <th>State_Region</th>\n",
       "      <th>ricetotal_q</th>\n",
       "      <th>wheattotal_q</th>\n",
       "      <th>moong_q</th>\n",
       "      <th>Milktotal_q</th>\n",
       "      <th>chicken_q</th>\n",
       "      <th>bread_q</th>\n",
       "      <th>foodtotal_q</th>\n",
       "      <th>Beveragestotal_v</th>\n",
       "      <th>Meals_At_Home</th>\n",
       "      <th>total_consumption</th>\n",
       "    </tr>\n",
       "  </thead>\n",
       "  <tbody>\n",
       "    <tr>\n",
       "      <th>2091</th>\n",
       "      <td>MP</td>\n",
       "      <td>49</td>\n",
       "      <td>RURAL</td>\n",
       "      <td>1</td>\n",
       "      <td>231</td>\n",
       "      <td>1.000000</td>\n",
       "      <td>8.000000</td>\n",
       "      <td>0.100000</td>\n",
       "      <td>0</td>\n",
       "      <td>0.0</td>\n",
       "      <td>0.0</td>\n",
       "      <td>21.510180</td>\n",
       "      <td>36.000000</td>\n",
       "      <td>60.0</td>\n",
       "      <td>66.610180</td>\n",
       "    </tr>\n",
       "    <tr>\n",
       "      <th>2092</th>\n",
       "      <td>MP</td>\n",
       "      <td>49</td>\n",
       "      <td>RURAL</td>\n",
       "      <td>1</td>\n",
       "      <td>231</td>\n",
       "      <td>1.000000</td>\n",
       "      <td>10.000000</td>\n",
       "      <td>0.083333</td>\n",
       "      <td>0</td>\n",
       "      <td>0.0</td>\n",
       "      <td>0.0</td>\n",
       "      <td>26.233667</td>\n",
       "      <td>16.666667</td>\n",
       "      <td>60.0</td>\n",
       "      <td>53.983667</td>\n",
       "    </tr>\n",
       "    <tr>\n",
       "      <th>2093</th>\n",
       "      <td>MP</td>\n",
       "      <td>49</td>\n",
       "      <td>RURAL</td>\n",
       "      <td>1</td>\n",
       "      <td>231</td>\n",
       "      <td>0.500000</td>\n",
       "      <td>8.125000</td>\n",
       "      <td>0.062500</td>\n",
       "      <td>0</td>\n",
       "      <td>0.0</td>\n",
       "      <td>0.0</td>\n",
       "      <td>15.087706</td>\n",
       "      <td>3.750000</td>\n",
       "      <td>60.0</td>\n",
       "      <td>27.525206</td>\n",
       "    </tr>\n",
       "    <tr>\n",
       "      <th>2094</th>\n",
       "      <td>MP</td>\n",
       "      <td>49</td>\n",
       "      <td>RURAL</td>\n",
       "      <td>1</td>\n",
       "      <td>231</td>\n",
       "      <td>1.428571</td>\n",
       "      <td>9.285714</td>\n",
       "      <td>0.142857</td>\n",
       "      <td>0</td>\n",
       "      <td>0.0</td>\n",
       "      <td>0.0</td>\n",
       "      <td>20.257300</td>\n",
       "      <td>7.142857</td>\n",
       "      <td>60.0</td>\n",
       "      <td>38.257300</td>\n",
       "    </tr>\n",
       "    <tr>\n",
       "      <th>2095</th>\n",
       "      <td>MP</td>\n",
       "      <td>49</td>\n",
       "      <td>RURAL</td>\n",
       "      <td>1</td>\n",
       "      <td>231</td>\n",
       "      <td>0.500000</td>\n",
       "      <td>10.000000</td>\n",
       "      <td>0.000000</td>\n",
       "      <td>0</td>\n",
       "      <td>0.0</td>\n",
       "      <td>0.0</td>\n",
       "      <td>23.425425</td>\n",
       "      <td>10.000000</td>\n",
       "      <td>60.0</td>\n",
       "      <td>43.925425</td>\n",
       "    </tr>\n",
       "  </tbody>\n",
       "</table>\n",
       "</div>"
      ],
      "text/plain": [
       "     state_1  District Sector  Region  State_Region  ricetotal_q  \\\n",
       "2091      MP        49  RURAL       1           231     1.000000   \n",
       "2092      MP        49  RURAL       1           231     1.000000   \n",
       "2093      MP        49  RURAL       1           231     0.500000   \n",
       "2094      MP        49  RURAL       1           231     1.428571   \n",
       "2095      MP        49  RURAL       1           231     0.500000   \n",
       "\n",
       "      wheattotal_q   moong_q  Milktotal_q  chicken_q  bread_q  foodtotal_q  \\\n",
       "2091      8.000000  0.100000            0        0.0      0.0    21.510180   \n",
       "2092     10.000000  0.083333            0        0.0      0.0    26.233667   \n",
       "2093      8.125000  0.062500            0        0.0      0.0    15.087706   \n",
       "2094      9.285714  0.142857            0        0.0      0.0    20.257300   \n",
       "2095     10.000000  0.000000            0        0.0      0.0    23.425425   \n",
       "\n",
       "      Beveragestotal_v  Meals_At_Home  total_consumption  \n",
       "2091         36.000000           60.0          66.610180  \n",
       "2092         16.666667           60.0          53.983667  \n",
       "2093          3.750000           60.0          27.525206  \n",
       "2094          7.142857           60.0          38.257300  \n",
       "2095         10.000000           60.0          43.925425  "
      ]
     },
     "execution_count": 63,
     "metadata": {},
     "output_type": "execute_result"
    }
   ],
   "source": [
    "MPH_clean.head()"
   ]
  },
  {
   "cell_type": "code",
   "execution_count": 64,
   "id": "21f5310f",
   "metadata": {
    "ExecuteTime": {
     "end_time": "2024-06-16T10:24:05.914207Z",
     "start_time": "2024-06-16T10:24:05.880170Z"
    }
   },
   "outputs": [
    {
     "data": {
      "text/html": [
       "<div>\n",
       "<style scoped>\n",
       "    .dataframe tbody tr th:only-of-type {\n",
       "        vertical-align: middle;\n",
       "    }\n",
       "\n",
       "    .dataframe tbody tr th {\n",
       "        vertical-align: top;\n",
       "    }\n",
       "\n",
       "    .dataframe thead tr th {\n",
       "        text-align: left;\n",
       "    }\n",
       "\n",
       "    .dataframe thead tr:last-of-type th {\n",
       "        text-align: right;\n",
       "    }\n",
       "</style>\n",
       "<table border=\"1\" class=\"dataframe\">\n",
       "  <thead>\n",
       "    <tr>\n",
       "      <th></th>\n",
       "      <th colspan=\"4\" halign=\"left\">total_consumption</th>\n",
       "    </tr>\n",
       "    <tr>\n",
       "      <th></th>\n",
       "      <th>std</th>\n",
       "      <th>mean</th>\n",
       "      <th>max</th>\n",
       "      <th>min</th>\n",
       "    </tr>\n",
       "    <tr>\n",
       "      <th>Region</th>\n",
       "      <th></th>\n",
       "      <th></th>\n",
       "      <th></th>\n",
       "      <th></th>\n",
       "    </tr>\n",
       "  </thead>\n",
       "  <tbody>\n",
       "    <tr>\n",
       "      <th>1</th>\n",
       "      <td>29.560237</td>\n",
       "      <td>46.640378</td>\n",
       "      <td>532.920880</td>\n",
       "      <td>0.0</td>\n",
       "    </tr>\n",
       "    <tr>\n",
       "      <th>2</th>\n",
       "      <td>38.829794</td>\n",
       "      <td>54.058974</td>\n",
       "      <td>551.007358</td>\n",
       "      <td>0.0</td>\n",
       "    </tr>\n",
       "    <tr>\n",
       "      <th>3</th>\n",
       "      <td>36.706541</td>\n",
       "      <td>55.662767</td>\n",
       "      <td>368.150555</td>\n",
       "      <td>0.0</td>\n",
       "    </tr>\n",
       "    <tr>\n",
       "      <th>4</th>\n",
       "      <td>23.742635</td>\n",
       "      <td>43.056724</td>\n",
       "      <td>228.551375</td>\n",
       "      <td>0.0</td>\n",
       "    </tr>\n",
       "    <tr>\n",
       "      <th>5</th>\n",
       "      <td>13.588121</td>\n",
       "      <td>38.945954</td>\n",
       "      <td>140.886029</td>\n",
       "      <td>0.0</td>\n",
       "    </tr>\n",
       "    <tr>\n",
       "      <th>6</th>\n",
       "      <td>31.381611</td>\n",
       "      <td>50.936510</td>\n",
       "      <td>361.951650</td>\n",
       "      <td>0.0</td>\n",
       "    </tr>\n",
       "  </tbody>\n",
       "</table>\n",
       "</div>"
      ],
      "text/plain": [
       "       total_consumption                            \n",
       "                     std       mean         max  min\n",
       "Region                                              \n",
       "1              29.560237  46.640378  532.920880  0.0\n",
       "2              38.829794  54.058974  551.007358  0.0\n",
       "3              36.706541  55.662767  368.150555  0.0\n",
       "4              23.742635  43.056724  228.551375  0.0\n",
       "5              13.588121  38.945954  140.886029  0.0\n",
       "6              31.381611  50.936510  361.951650  0.0"
      ]
     },
     "execution_count": 64,
     "metadata": {},
     "output_type": "execute_result"
    }
   ],
   "source": [
    "MPH_clean.groupby('Region').agg({'total_consumption':['std','mean','max','min']})"
   ]
  },
  {
   "cell_type": "code",
   "execution_count": 65,
   "id": "9350a8aa",
   "metadata": {
    "ExecuteTime": {
     "end_time": "2024-06-16T10:24:07.986326Z",
     "start_time": "2024-06-16T10:24:07.969988Z"
    }
   },
   "outputs": [
    {
     "data": {
      "text/html": [
       "<div>\n",
       "<style scoped>\n",
       "    .dataframe tbody tr th:only-of-type {\n",
       "        vertical-align: middle;\n",
       "    }\n",
       "\n",
       "    .dataframe tbody tr th {\n",
       "        vertical-align: top;\n",
       "    }\n",
       "\n",
       "    .dataframe thead tr th {\n",
       "        text-align: left;\n",
       "    }\n",
       "\n",
       "    .dataframe thead tr:last-of-type th {\n",
       "        text-align: right;\n",
       "    }\n",
       "</style>\n",
       "<table border=\"1\" class=\"dataframe\">\n",
       "  <thead>\n",
       "    <tr>\n",
       "      <th></th>\n",
       "      <th colspan=\"4\" halign=\"left\">total_consumption</th>\n",
       "    </tr>\n",
       "    <tr>\n",
       "      <th></th>\n",
       "      <th>std</th>\n",
       "      <th>mean</th>\n",
       "      <th>max</th>\n",
       "      <th>min</th>\n",
       "    </tr>\n",
       "    <tr>\n",
       "      <th>District</th>\n",
       "      <th></th>\n",
       "      <th></th>\n",
       "      <th></th>\n",
       "      <th></th>\n",
       "    </tr>\n",
       "  </thead>\n",
       "  <tbody>\n",
       "    <tr>\n",
       "      <th>1</th>\n",
       "      <td>16.775819</td>\n",
       "      <td>39.746085</td>\n",
       "      <td>102.950500</td>\n",
       "      <td>17.940200</td>\n",
       "    </tr>\n",
       "    <tr>\n",
       "      <th>2</th>\n",
       "      <td>19.073353</td>\n",
       "      <td>44.085860</td>\n",
       "      <td>122.815275</td>\n",
       "      <td>18.262662</td>\n",
       "    </tr>\n",
       "    <tr>\n",
       "      <th>3</th>\n",
       "      <td>16.968680</td>\n",
       "      <td>42.753640</td>\n",
       "      <td>119.150300</td>\n",
       "      <td>21.950169</td>\n",
       "    </tr>\n",
       "    <tr>\n",
       "      <th>4</th>\n",
       "      <td>37.374055</td>\n",
       "      <td>50.190857</td>\n",
       "      <td>235.688827</td>\n",
       "      <td>17.257750</td>\n",
       "    </tr>\n",
       "    <tr>\n",
       "      <th>5</th>\n",
       "      <td>22.757348</td>\n",
       "      <td>47.536850</td>\n",
       "      <td>138.277767</td>\n",
       "      <td>20.528800</td>\n",
       "    </tr>\n",
       "    <tr>\n",
       "      <th>6</th>\n",
       "      <td>45.287017</td>\n",
       "      <td>65.215649</td>\n",
       "      <td>361.951650</td>\n",
       "      <td>0.000000</td>\n",
       "    </tr>\n",
       "    <tr>\n",
       "      <th>7</th>\n",
       "      <td>38.497496</td>\n",
       "      <td>58.312801</td>\n",
       "      <td>299.831165</td>\n",
       "      <td>23.387795</td>\n",
       "    </tr>\n",
       "    <tr>\n",
       "      <th>8</th>\n",
       "      <td>21.852111</td>\n",
       "      <td>54.327756</td>\n",
       "      <td>143.701710</td>\n",
       "      <td>18.300000</td>\n",
       "    </tr>\n",
       "    <tr>\n",
       "      <th>9</th>\n",
       "      <td>53.524958</td>\n",
       "      <td>64.259850</td>\n",
       "      <td>532.920880</td>\n",
       "      <td>18.728716</td>\n",
       "    </tr>\n",
       "    <tr>\n",
       "      <th>10</th>\n",
       "      <td>23.481478</td>\n",
       "      <td>49.247331</td>\n",
       "      <td>138.950163</td>\n",
       "      <td>14.283386</td>\n",
       "    </tr>\n",
       "    <tr>\n",
       "      <th>11</th>\n",
       "      <td>36.857306</td>\n",
       "      <td>54.414838</td>\n",
       "      <td>340.839137</td>\n",
       "      <td>12.608433</td>\n",
       "    </tr>\n",
       "    <tr>\n",
       "      <th>12</th>\n",
       "      <td>36.850612</td>\n",
       "      <td>57.929265</td>\n",
       "      <td>296.460550</td>\n",
       "      <td>18.935871</td>\n",
       "    </tr>\n",
       "    <tr>\n",
       "      <th>13</th>\n",
       "      <td>19.197056</td>\n",
       "      <td>43.727410</td>\n",
       "      <td>153.575265</td>\n",
       "      <td>21.718437</td>\n",
       "    </tr>\n",
       "    <tr>\n",
       "      <th>14</th>\n",
       "      <td>39.902524</td>\n",
       "      <td>49.481078</td>\n",
       "      <td>423.875520</td>\n",
       "      <td>0.000000</td>\n",
       "    </tr>\n",
       "    <tr>\n",
       "      <th>15</th>\n",
       "      <td>16.523679</td>\n",
       "      <td>41.945661</td>\n",
       "      <td>98.400473</td>\n",
       "      <td>26.370070</td>\n",
       "    </tr>\n",
       "    <tr>\n",
       "      <th>16</th>\n",
       "      <td>12.689767</td>\n",
       "      <td>38.899458</td>\n",
       "      <td>79.925275</td>\n",
       "      <td>21.420040</td>\n",
       "    </tr>\n",
       "    <tr>\n",
       "      <th>17</th>\n",
       "      <td>16.718969</td>\n",
       "      <td>37.721699</td>\n",
       "      <td>103.307825</td>\n",
       "      <td>17.875053</td>\n",
       "    </tr>\n",
       "    <tr>\n",
       "      <th>18</th>\n",
       "      <td>37.465217</td>\n",
       "      <td>52.226480</td>\n",
       "      <td>210.733977</td>\n",
       "      <td>20.360160</td>\n",
       "    </tr>\n",
       "    <tr>\n",
       "      <th>19</th>\n",
       "      <td>28.003673</td>\n",
       "      <td>51.176768</td>\n",
       "      <td>159.725825</td>\n",
       "      <td>18.783460</td>\n",
       "    </tr>\n",
       "    <tr>\n",
       "      <th>20</th>\n",
       "      <td>21.951832</td>\n",
       "      <td>42.260451</td>\n",
       "      <td>139.851975</td>\n",
       "      <td>14.666850</td>\n",
       "    </tr>\n",
       "    <tr>\n",
       "      <th>21</th>\n",
       "      <td>39.690816</td>\n",
       "      <td>64.011533</td>\n",
       "      <td>236.045783</td>\n",
       "      <td>6.200000</td>\n",
       "    </tr>\n",
       "    <tr>\n",
       "      <th>22</th>\n",
       "      <td>36.275602</td>\n",
       "      <td>48.298919</td>\n",
       "      <td>368.150555</td>\n",
       "      <td>0.000000</td>\n",
       "    </tr>\n",
       "    <tr>\n",
       "      <th>23</th>\n",
       "      <td>33.855594</td>\n",
       "      <td>53.693723</td>\n",
       "      <td>238.000275</td>\n",
       "      <td>13.900585</td>\n",
       "    </tr>\n",
       "    <tr>\n",
       "      <th>24</th>\n",
       "      <td>18.701657</td>\n",
       "      <td>39.959696</td>\n",
       "      <td>126.017220</td>\n",
       "      <td>18.310280</td>\n",
       "    </tr>\n",
       "    <tr>\n",
       "      <th>25</th>\n",
       "      <td>40.250016</td>\n",
       "      <td>64.869301</td>\n",
       "      <td>214.600400</td>\n",
       "      <td>0.000000</td>\n",
       "    </tr>\n",
       "    <tr>\n",
       "      <th>26</th>\n",
       "      <td>47.764086</td>\n",
       "      <td>69.874306</td>\n",
       "      <td>282.860450</td>\n",
       "      <td>16.014621</td>\n",
       "    </tr>\n",
       "    <tr>\n",
       "      <th>27</th>\n",
       "      <td>10.166227</td>\n",
       "      <td>40.517103</td>\n",
       "      <td>69.760136</td>\n",
       "      <td>16.107271</td>\n",
       "    </tr>\n",
       "    <tr>\n",
       "      <th>28</th>\n",
       "      <td>14.084628</td>\n",
       "      <td>38.593005</td>\n",
       "      <td>131.900800</td>\n",
       "      <td>18.200549</td>\n",
       "    </tr>\n",
       "    <tr>\n",
       "      <th>29</th>\n",
       "      <td>10.940196</td>\n",
       "      <td>37.999688</td>\n",
       "      <td>71.139261</td>\n",
       "      <td>0.000000</td>\n",
       "    </tr>\n",
       "    <tr>\n",
       "      <th>30</th>\n",
       "      <td>31.594859</td>\n",
       "      <td>55.898809</td>\n",
       "      <td>193.375348</td>\n",
       "      <td>6.880000</td>\n",
       "    </tr>\n",
       "    <tr>\n",
       "      <th>31</th>\n",
       "      <td>58.686453</td>\n",
       "      <td>58.446243</td>\n",
       "      <td>551.007358</td>\n",
       "      <td>15.791918</td>\n",
       "    </tr>\n",
       "    <tr>\n",
       "      <th>32</th>\n",
       "      <td>36.957188</td>\n",
       "      <td>54.191858</td>\n",
       "      <td>335.480256</td>\n",
       "      <td>0.000000</td>\n",
       "    </tr>\n",
       "    <tr>\n",
       "      <th>33</th>\n",
       "      <td>27.034604</td>\n",
       "      <td>43.908925</td>\n",
       "      <td>170.626250</td>\n",
       "      <td>0.000000</td>\n",
       "    </tr>\n",
       "    <tr>\n",
       "      <th>34</th>\n",
       "      <td>30.520705</td>\n",
       "      <td>55.282438</td>\n",
       "      <td>175.801020</td>\n",
       "      <td>18.700380</td>\n",
       "    </tr>\n",
       "    <tr>\n",
       "      <th>35</th>\n",
       "      <td>9.738820</td>\n",
       "      <td>34.849389</td>\n",
       "      <td>79.060165</td>\n",
       "      <td>0.000000</td>\n",
       "    </tr>\n",
       "    <tr>\n",
       "      <th>36</th>\n",
       "      <td>14.390718</td>\n",
       "      <td>38.462336</td>\n",
       "      <td>71.467048</td>\n",
       "      <td>0.000000</td>\n",
       "    </tr>\n",
       "    <tr>\n",
       "      <th>37</th>\n",
       "      <td>20.166315</td>\n",
       "      <td>41.184527</td>\n",
       "      <td>140.886029</td>\n",
       "      <td>10.000000</td>\n",
       "    </tr>\n",
       "    <tr>\n",
       "      <th>38</th>\n",
       "      <td>26.203667</td>\n",
       "      <td>46.447708</td>\n",
       "      <td>139.176310</td>\n",
       "      <td>7.448220</td>\n",
       "    </tr>\n",
       "    <tr>\n",
       "      <th>39</th>\n",
       "      <td>24.994098</td>\n",
       "      <td>45.469218</td>\n",
       "      <td>175.433373</td>\n",
       "      <td>8.620000</td>\n",
       "    </tr>\n",
       "    <tr>\n",
       "      <th>40</th>\n",
       "      <td>25.979579</td>\n",
       "      <td>53.048309</td>\n",
       "      <td>199.640492</td>\n",
       "      <td>15.700110</td>\n",
       "    </tr>\n",
       "    <tr>\n",
       "      <th>41</th>\n",
       "      <td>12.958814</td>\n",
       "      <td>33.770509</td>\n",
       "      <td>79.500533</td>\n",
       "      <td>12.228715</td>\n",
       "    </tr>\n",
       "    <tr>\n",
       "      <th>42</th>\n",
       "      <td>31.237234</td>\n",
       "      <td>39.575799</td>\n",
       "      <td>228.551375</td>\n",
       "      <td>15.000000</td>\n",
       "    </tr>\n",
       "    <tr>\n",
       "      <th>43</th>\n",
       "      <td>20.502409</td>\n",
       "      <td>40.108454</td>\n",
       "      <td>212.100000</td>\n",
       "      <td>19.812693</td>\n",
       "    </tr>\n",
       "    <tr>\n",
       "      <th>44</th>\n",
       "      <td>20.626990</td>\n",
       "      <td>42.666259</td>\n",
       "      <td>101.275600</td>\n",
       "      <td>0.000000</td>\n",
       "    </tr>\n",
       "    <tr>\n",
       "      <th>45</th>\n",
       "      <td>13.173145</td>\n",
       "      <td>39.160220</td>\n",
       "      <td>91.050400</td>\n",
       "      <td>23.505155</td>\n",
       "    </tr>\n",
       "    <tr>\n",
       "      <th>46</th>\n",
       "      <td>27.769475</td>\n",
       "      <td>60.623462</td>\n",
       "      <td>207.025908</td>\n",
       "      <td>31.225184</td>\n",
       "    </tr>\n",
       "    <tr>\n",
       "      <th>47</th>\n",
       "      <td>14.939470</td>\n",
       "      <td>36.971601</td>\n",
       "      <td>127.575130</td>\n",
       "      <td>24.450108</td>\n",
       "    </tr>\n",
       "    <tr>\n",
       "      <th>48</th>\n",
       "      <td>15.200552</td>\n",
       "      <td>42.819423</td>\n",
       "      <td>108.350470</td>\n",
       "      <td>25.417386</td>\n",
       "    </tr>\n",
       "    <tr>\n",
       "      <th>49</th>\n",
       "      <td>17.099732</td>\n",
       "      <td>37.697130</td>\n",
       "      <td>89.450175</td>\n",
       "      <td>10.000000</td>\n",
       "    </tr>\n",
       "    <tr>\n",
       "      <th>50</th>\n",
       "      <td>13.531332</td>\n",
       "      <td>40.836403</td>\n",
       "      <td>84.908130</td>\n",
       "      <td>19.666743</td>\n",
       "    </tr>\n",
       "  </tbody>\n",
       "</table>\n",
       "</div>"
      ],
      "text/plain": [
       "         total_consumption                                  \n",
       "                       std       mean         max        min\n",
       "District                                                    \n",
       "1                16.775819  39.746085  102.950500  17.940200\n",
       "2                19.073353  44.085860  122.815275  18.262662\n",
       "3                16.968680  42.753640  119.150300  21.950169\n",
       "4                37.374055  50.190857  235.688827  17.257750\n",
       "5                22.757348  47.536850  138.277767  20.528800\n",
       "6                45.287017  65.215649  361.951650   0.000000\n",
       "7                38.497496  58.312801  299.831165  23.387795\n",
       "8                21.852111  54.327756  143.701710  18.300000\n",
       "9                53.524958  64.259850  532.920880  18.728716\n",
       "10               23.481478  49.247331  138.950163  14.283386\n",
       "11               36.857306  54.414838  340.839137  12.608433\n",
       "12               36.850612  57.929265  296.460550  18.935871\n",
       "13               19.197056  43.727410  153.575265  21.718437\n",
       "14               39.902524  49.481078  423.875520   0.000000\n",
       "15               16.523679  41.945661   98.400473  26.370070\n",
       "16               12.689767  38.899458   79.925275  21.420040\n",
       "17               16.718969  37.721699  103.307825  17.875053\n",
       "18               37.465217  52.226480  210.733977  20.360160\n",
       "19               28.003673  51.176768  159.725825  18.783460\n",
       "20               21.951832  42.260451  139.851975  14.666850\n",
       "21               39.690816  64.011533  236.045783   6.200000\n",
       "22               36.275602  48.298919  368.150555   0.000000\n",
       "23               33.855594  53.693723  238.000275  13.900585\n",
       "24               18.701657  39.959696  126.017220  18.310280\n",
       "25               40.250016  64.869301  214.600400   0.000000\n",
       "26               47.764086  69.874306  282.860450  16.014621\n",
       "27               10.166227  40.517103   69.760136  16.107271\n",
       "28               14.084628  38.593005  131.900800  18.200549\n",
       "29               10.940196  37.999688   71.139261   0.000000\n",
       "30               31.594859  55.898809  193.375348   6.880000\n",
       "31               58.686453  58.446243  551.007358  15.791918\n",
       "32               36.957188  54.191858  335.480256   0.000000\n",
       "33               27.034604  43.908925  170.626250   0.000000\n",
       "34               30.520705  55.282438  175.801020  18.700380\n",
       "35                9.738820  34.849389   79.060165   0.000000\n",
       "36               14.390718  38.462336   71.467048   0.000000\n",
       "37               20.166315  41.184527  140.886029  10.000000\n",
       "38               26.203667  46.447708  139.176310   7.448220\n",
       "39               24.994098  45.469218  175.433373   8.620000\n",
       "40               25.979579  53.048309  199.640492  15.700110\n",
       "41               12.958814  33.770509   79.500533  12.228715\n",
       "42               31.237234  39.575799  228.551375  15.000000\n",
       "43               20.502409  40.108454  212.100000  19.812693\n",
       "44               20.626990  42.666259  101.275600   0.000000\n",
       "45               13.173145  39.160220   91.050400  23.505155\n",
       "46               27.769475  60.623462  207.025908  31.225184\n",
       "47               14.939470  36.971601  127.575130  24.450108\n",
       "48               15.200552  42.819423  108.350470  25.417386\n",
       "49               17.099732  37.697130   89.450175  10.000000\n",
       "50               13.531332  40.836403   84.908130  19.666743"
      ]
     },
     "execution_count": 65,
     "metadata": {},
     "output_type": "execute_result"
    }
   ],
   "source": [
    "MPH_clean.groupby('District').agg({'total_consumption':['std','mean','max','min']})"
   ]
  },
  {
   "cell_type": "code",
   "execution_count": 66,
   "id": "e401d915",
   "metadata": {
    "ExecuteTime": {
     "end_time": "2024-06-16T10:24:13.578223Z",
     "start_time": "2024-06-16T10:24:13.572952Z"
    }
   },
   "outputs": [],
   "source": [
    "total_consumption_by_districtcode=MPH_clean.groupby('District')['total_consumption'].sum()"
   ]
  },
  {
   "cell_type": "code",
   "execution_count": 67,
   "id": "ad3a96bd",
   "metadata": {
    "ExecuteTime": {
     "end_time": "2024-06-16T10:24:16.346448Z",
     "start_time": "2024-06-16T10:24:16.338380Z"
    }
   },
   "outputs": [
    {
     "data": {
      "text/plain": [
       "District\n",
       "26    11179.888996\n",
       "11     8651.959181\n",
       "32     8562.313518\n",
       "Name: total_consumption, dtype: float64"
      ]
     },
     "execution_count": 67,
     "metadata": {},
     "output_type": "execute_result"
    }
   ],
   "source": [
    "total_consumption_by_districtcode.sort_values(ascending=False).head(3)"
   ]
  },
  {
   "cell_type": "code",
   "execution_count": 68,
   "id": "7202253b",
   "metadata": {
    "ExecuteTime": {
     "end_time": "2024-06-16T10:24:19.340120Z",
     "start_time": "2024-06-16T10:24:19.333211Z"
    }
   },
   "outputs": [],
   "source": [
    "MPH_clean.loc[:,\"District\"] = MPH_clean.loc[:,\"District\"].replace({26:\"Indore\", 11:\"Sagar\", 32:\"Bhopal\"})"
   ]
  },
  {
   "cell_type": "code",
   "execution_count": 69,
   "id": "892eaac3",
   "metadata": {
    "ExecuteTime": {
     "end_time": "2024-06-16T10:24:21.218784Z",
     "start_time": "2024-06-16T10:24:21.210645Z"
    }
   },
   "outputs": [],
   "source": [
    "total_consumption_by_districtname=MPH_clean.groupby('District')['total_consumption'].sum()"
   ]
  },
  {
   "cell_type": "code",
   "execution_count": 70,
   "id": "ccd48af2",
   "metadata": {
    "ExecuteTime": {
     "end_time": "2024-06-16T10:24:22.901993Z",
     "start_time": "2024-06-16T10:24:22.895026Z"
    }
   },
   "outputs": [
    {
     "data": {
      "text/plain": [
       "District\n",
       "Indore    11179.888996\n",
       "Sagar      8651.959181\n",
       "Bhopal     8562.313518\n",
       "Name: total_consumption, dtype: float64"
      ]
     },
     "execution_count": 70,
     "metadata": {},
     "output_type": "execute_result"
    }
   ],
   "source": [
    "total_consumption_by_districtname.sort_values(ascending=False).head(3)"
   ]
  },
  {
   "cell_type": "code",
   "execution_count": 71,
   "id": "f34a7ab3",
   "metadata": {
    "ExecuteTime": {
     "end_time": "2024-06-16T10:24:26.024999Z",
     "start_time": "2024-06-16T10:24:26.002237Z"
    }
   },
   "outputs": [],
   "source": [
    "from statsmodels.stats import weightstats as stests"
   ]
  },
  {
   "cell_type": "code",
   "execution_count": 72,
   "id": "7a0f3736",
   "metadata": {
    "ExecuteTime": {
     "end_time": "2024-06-16T10:24:27.312812Z",
     "start_time": "2024-06-16T10:24:27.303906Z"
    }
   },
   "outputs": [],
   "source": [
    "rural=MPH_clean[MPH_clean['Sector']==\"RURAL\"]\n",
    "urban=MPH_clean[MPH_clean['Sector']==\"URBAN\"]"
   ]
  },
  {
   "cell_type": "code",
   "execution_count": 73,
   "id": "ed868d23",
   "metadata": {
    "ExecuteTime": {
     "end_time": "2024-06-16T10:24:28.869178Z",
     "start_time": "2024-06-16T10:24:28.853238Z"
    }
   },
   "outputs": [
    {
     "data": {
      "text/html": [
       "<div>\n",
       "<style scoped>\n",
       "    .dataframe tbody tr th:only-of-type {\n",
       "        vertical-align: middle;\n",
       "    }\n",
       "\n",
       "    .dataframe tbody tr th {\n",
       "        vertical-align: top;\n",
       "    }\n",
       "\n",
       "    .dataframe thead th {\n",
       "        text-align: right;\n",
       "    }\n",
       "</style>\n",
       "<table border=\"1\" class=\"dataframe\">\n",
       "  <thead>\n",
       "    <tr style=\"text-align: right;\">\n",
       "      <th></th>\n",
       "      <th>state_1</th>\n",
       "      <th>District</th>\n",
       "      <th>Sector</th>\n",
       "      <th>Region</th>\n",
       "      <th>State_Region</th>\n",
       "      <th>ricetotal_q</th>\n",
       "      <th>wheattotal_q</th>\n",
       "      <th>moong_q</th>\n",
       "      <th>Milktotal_q</th>\n",
       "      <th>chicken_q</th>\n",
       "      <th>bread_q</th>\n",
       "      <th>foodtotal_q</th>\n",
       "      <th>Beveragestotal_v</th>\n",
       "      <th>Meals_At_Home</th>\n",
       "      <th>total_consumption</th>\n",
       "    </tr>\n",
       "  </thead>\n",
       "  <tbody>\n",
       "    <tr>\n",
       "      <th>2091</th>\n",
       "      <td>MP</td>\n",
       "      <td>49</td>\n",
       "      <td>RURAL</td>\n",
       "      <td>1</td>\n",
       "      <td>231</td>\n",
       "      <td>1.000000</td>\n",
       "      <td>8.000000</td>\n",
       "      <td>0.100000</td>\n",
       "      <td>0</td>\n",
       "      <td>0.0</td>\n",
       "      <td>0.0</td>\n",
       "      <td>21.510180</td>\n",
       "      <td>36.000000</td>\n",
       "      <td>60.0</td>\n",
       "      <td>66.610180</td>\n",
       "    </tr>\n",
       "    <tr>\n",
       "      <th>2092</th>\n",
       "      <td>MP</td>\n",
       "      <td>49</td>\n",
       "      <td>RURAL</td>\n",
       "      <td>1</td>\n",
       "      <td>231</td>\n",
       "      <td>1.000000</td>\n",
       "      <td>10.000000</td>\n",
       "      <td>0.083333</td>\n",
       "      <td>0</td>\n",
       "      <td>0.0</td>\n",
       "      <td>0.0</td>\n",
       "      <td>26.233667</td>\n",
       "      <td>16.666667</td>\n",
       "      <td>60.0</td>\n",
       "      <td>53.983667</td>\n",
       "    </tr>\n",
       "    <tr>\n",
       "      <th>2093</th>\n",
       "      <td>MP</td>\n",
       "      <td>49</td>\n",
       "      <td>RURAL</td>\n",
       "      <td>1</td>\n",
       "      <td>231</td>\n",
       "      <td>0.500000</td>\n",
       "      <td>8.125000</td>\n",
       "      <td>0.062500</td>\n",
       "      <td>0</td>\n",
       "      <td>0.0</td>\n",
       "      <td>0.0</td>\n",
       "      <td>15.087706</td>\n",
       "      <td>3.750000</td>\n",
       "      <td>60.0</td>\n",
       "      <td>27.525206</td>\n",
       "    </tr>\n",
       "    <tr>\n",
       "      <th>2094</th>\n",
       "      <td>MP</td>\n",
       "      <td>49</td>\n",
       "      <td>RURAL</td>\n",
       "      <td>1</td>\n",
       "      <td>231</td>\n",
       "      <td>1.428571</td>\n",
       "      <td>9.285714</td>\n",
       "      <td>0.142857</td>\n",
       "      <td>0</td>\n",
       "      <td>0.0</td>\n",
       "      <td>0.0</td>\n",
       "      <td>20.257300</td>\n",
       "      <td>7.142857</td>\n",
       "      <td>60.0</td>\n",
       "      <td>38.257300</td>\n",
       "    </tr>\n",
       "    <tr>\n",
       "      <th>2095</th>\n",
       "      <td>MP</td>\n",
       "      <td>49</td>\n",
       "      <td>RURAL</td>\n",
       "      <td>1</td>\n",
       "      <td>231</td>\n",
       "      <td>0.500000</td>\n",
       "      <td>10.000000</td>\n",
       "      <td>0.000000</td>\n",
       "      <td>0</td>\n",
       "      <td>0.0</td>\n",
       "      <td>0.0</td>\n",
       "      <td>23.425425</td>\n",
       "      <td>10.000000</td>\n",
       "      <td>60.0</td>\n",
       "      <td>43.925425</td>\n",
       "    </tr>\n",
       "  </tbody>\n",
       "</table>\n",
       "</div>"
      ],
      "text/plain": [
       "     state_1 District Sector  Region  State_Region  ricetotal_q  wheattotal_q  \\\n",
       "2091      MP       49  RURAL       1           231     1.000000      8.000000   \n",
       "2092      MP       49  RURAL       1           231     1.000000     10.000000   \n",
       "2093      MP       49  RURAL       1           231     0.500000      8.125000   \n",
       "2094      MP       49  RURAL       1           231     1.428571      9.285714   \n",
       "2095      MP       49  RURAL       1           231     0.500000     10.000000   \n",
       "\n",
       "       moong_q  Milktotal_q  chicken_q  bread_q  foodtotal_q  \\\n",
       "2091  0.100000            0        0.0      0.0    21.510180   \n",
       "2092  0.083333            0        0.0      0.0    26.233667   \n",
       "2093  0.062500            0        0.0      0.0    15.087706   \n",
       "2094  0.142857            0        0.0      0.0    20.257300   \n",
       "2095  0.000000            0        0.0      0.0    23.425425   \n",
       "\n",
       "      Beveragestotal_v  Meals_At_Home  total_consumption  \n",
       "2091         36.000000           60.0          66.610180  \n",
       "2092         16.666667           60.0          53.983667  \n",
       "2093          3.750000           60.0          27.525206  \n",
       "2094          7.142857           60.0          38.257300  \n",
       "2095         10.000000           60.0          43.925425  "
      ]
     },
     "execution_count": 73,
     "metadata": {},
     "output_type": "execute_result"
    }
   ],
   "source": [
    "rural.head()"
   ]
  },
  {
   "cell_type": "code",
   "execution_count": 74,
   "id": "cba3ad77",
   "metadata": {
    "ExecuteTime": {
     "end_time": "2024-06-16T10:24:31.022488Z",
     "start_time": "2024-06-16T10:24:31.001243Z"
    }
   },
   "outputs": [
    {
     "data": {
      "text/html": [
       "<div>\n",
       "<style scoped>\n",
       "    .dataframe tbody tr th:only-of-type {\n",
       "        vertical-align: middle;\n",
       "    }\n",
       "\n",
       "    .dataframe tbody tr th {\n",
       "        vertical-align: top;\n",
       "    }\n",
       "\n",
       "    .dataframe thead th {\n",
       "        text-align: right;\n",
       "    }\n",
       "</style>\n",
       "<table border=\"1\" class=\"dataframe\">\n",
       "  <thead>\n",
       "    <tr style=\"text-align: right;\">\n",
       "      <th></th>\n",
       "      <th>state_1</th>\n",
       "      <th>District</th>\n",
       "      <th>Sector</th>\n",
       "      <th>Region</th>\n",
       "      <th>State_Region</th>\n",
       "      <th>ricetotal_q</th>\n",
       "      <th>wheattotal_q</th>\n",
       "      <th>moong_q</th>\n",
       "      <th>Milktotal_q</th>\n",
       "      <th>chicken_q</th>\n",
       "      <th>bread_q</th>\n",
       "      <th>foodtotal_q</th>\n",
       "      <th>Beveragestotal_v</th>\n",
       "      <th>Meals_At_Home</th>\n",
       "      <th>total_consumption</th>\n",
       "    </tr>\n",
       "  </thead>\n",
       "  <tbody>\n",
       "    <tr>\n",
       "      <th>80540</th>\n",
       "      <td>MP</td>\n",
       "      <td>14</td>\n",
       "      <td>URBAN</td>\n",
       "      <td>1</td>\n",
       "      <td>231</td>\n",
       "      <td>3.000000</td>\n",
       "      <td>4.200000</td>\n",
       "      <td>0.0</td>\n",
       "      <td>0</td>\n",
       "      <td>0.0</td>\n",
       "      <td>0.0</td>\n",
       "      <td>26.610218</td>\n",
       "      <td>34.000000</td>\n",
       "      <td>60.0</td>\n",
       "      <td>67.810218</td>\n",
       "    </tr>\n",
       "    <tr>\n",
       "      <th>80541</th>\n",
       "      <td>MP</td>\n",
       "      <td>14</td>\n",
       "      <td>URBAN</td>\n",
       "      <td>1</td>\n",
       "      <td>231</td>\n",
       "      <td>3.333333</td>\n",
       "      <td>5.000000</td>\n",
       "      <td>0.0</td>\n",
       "      <td>0</td>\n",
       "      <td>0.0</td>\n",
       "      <td>0.0</td>\n",
       "      <td>13.688941</td>\n",
       "      <td>2.777778</td>\n",
       "      <td>52.0</td>\n",
       "      <td>24.800052</td>\n",
       "    </tr>\n",
       "    <tr>\n",
       "      <th>80542</th>\n",
       "      <td>MP</td>\n",
       "      <td>14</td>\n",
       "      <td>URBAN</td>\n",
       "      <td>1</td>\n",
       "      <td>231</td>\n",
       "      <td>3.666667</td>\n",
       "      <td>5.833333</td>\n",
       "      <td>0.0</td>\n",
       "      <td>0</td>\n",
       "      <td>0.0</td>\n",
       "      <td>0.0</td>\n",
       "      <td>21.783533</td>\n",
       "      <td>23.333333</td>\n",
       "      <td>56.0</td>\n",
       "      <td>54.616867</td>\n",
       "    </tr>\n",
       "    <tr>\n",
       "      <th>80543</th>\n",
       "      <td>MP</td>\n",
       "      <td>14</td>\n",
       "      <td>URBAN</td>\n",
       "      <td>1</td>\n",
       "      <td>231</td>\n",
       "      <td>3.333333</td>\n",
       "      <td>5.833333</td>\n",
       "      <td>0.0</td>\n",
       "      <td>0</td>\n",
       "      <td>0.0</td>\n",
       "      <td>0.0</td>\n",
       "      <td>21.650133</td>\n",
       "      <td>8.333333</td>\n",
       "      <td>60.0</td>\n",
       "      <td>39.150133</td>\n",
       "    </tr>\n",
       "    <tr>\n",
       "      <th>80544</th>\n",
       "      <td>MP</td>\n",
       "      <td>14</td>\n",
       "      <td>URBAN</td>\n",
       "      <td>1</td>\n",
       "      <td>231</td>\n",
       "      <td>4.500000</td>\n",
       "      <td>10.000000</td>\n",
       "      <td>0.0</td>\n",
       "      <td>0</td>\n",
       "      <td>0.0</td>\n",
       "      <td>0.0</td>\n",
       "      <td>26.687855</td>\n",
       "      <td>20.000000</td>\n",
       "      <td>60.0</td>\n",
       "      <td>61.187855</td>\n",
       "    </tr>\n",
       "  </tbody>\n",
       "</table>\n",
       "</div>"
      ],
      "text/plain": [
       "      state_1 District Sector  Region  State_Region  ricetotal_q  \\\n",
       "80540      MP       14  URBAN       1           231     3.000000   \n",
       "80541      MP       14  URBAN       1           231     3.333333   \n",
       "80542      MP       14  URBAN       1           231     3.666667   \n",
       "80543      MP       14  URBAN       1           231     3.333333   \n",
       "80544      MP       14  URBAN       1           231     4.500000   \n",
       "\n",
       "       wheattotal_q  moong_q  Milktotal_q  chicken_q  bread_q  foodtotal_q  \\\n",
       "80540      4.200000      0.0            0        0.0      0.0    26.610218   \n",
       "80541      5.000000      0.0            0        0.0      0.0    13.688941   \n",
       "80542      5.833333      0.0            0        0.0      0.0    21.783533   \n",
       "80543      5.833333      0.0            0        0.0      0.0    21.650133   \n",
       "80544     10.000000      0.0            0        0.0      0.0    26.687855   \n",
       "\n",
       "       Beveragestotal_v  Meals_At_Home  total_consumption  \n",
       "80540         34.000000           60.0          67.810218  \n",
       "80541          2.777778           52.0          24.800052  \n",
       "80542         23.333333           56.0          54.616867  \n",
       "80543          8.333333           60.0          39.150133  \n",
       "80544         20.000000           60.0          61.187855  "
      ]
     },
     "execution_count": 74,
     "metadata": {},
     "output_type": "execute_result"
    }
   ],
   "source": [
    "urban.head()"
   ]
  },
  {
   "cell_type": "code",
   "execution_count": 75,
   "id": "676b513e",
   "metadata": {
    "ExecuteTime": {
     "end_time": "2024-06-16T10:24:32.527594Z",
     "start_time": "2024-06-16T10:24:32.524253Z"
    }
   },
   "outputs": [],
   "source": [
    "cons_rural=rural['total_consumption']\n",
    "cons_urban=urban['total_consumption']"
   ]
  },
  {
   "cell_type": "code",
   "execution_count": 76,
   "id": "7e08040d",
   "metadata": {
    "ExecuteTime": {
     "end_time": "2024-06-16T10:24:33.980015Z",
     "start_time": "2024-06-16T10:24:33.970730Z"
    }
   },
   "outputs": [
    {
     "name": "stdout",
     "output_type": "stream",
     "text": [
      "Z-Score: 9.860678180278635\n",
      "P-Value: 6.16316899436021e-23\n"
     ]
    }
   ],
   "source": [
    "z_statistic, p_value = stests.ztest(cons_rural, cons_urban)\n",
    "# Print the z-score and p-value\n",
    "print(\"Z-Score:\", z_statistic)\n",
    "print(\"P-Value:\", p_value)"
   ]
  }
 ],
 "metadata": {
  "kernelspec": {
   "display_name": "Python 3 (ipykernel)",
   "language": "python",
   "name": "python3"
  },
  "language_info": {
   "codemirror_mode": {
    "name": "ipython",
    "version": 3
   },
   "file_extension": ".py",
   "mimetype": "text/x-python",
   "name": "python",
   "nbconvert_exporter": "python",
   "pygments_lexer": "ipython3",
   "version": "3.11.5"
  },
  "varInspector": {
   "cols": {
    "lenName": 16,
    "lenType": 16,
    "lenVar": 40
   },
   "kernels_config": {
    "python": {
     "delete_cmd_postfix": "",
     "delete_cmd_prefix": "del ",
     "library": "var_list.py",
     "varRefreshCmd": "print(var_dic_list())"
    },
    "r": {
     "delete_cmd_postfix": ") ",
     "delete_cmd_prefix": "rm(",
     "library": "var_list.r",
     "varRefreshCmd": "cat(var_dic_list()) "
    }
   },
   "types_to_exclude": [
    "module",
    "function",
    "builtin_function_or_method",
    "instance",
    "_Feature"
   ],
   "window_display": false
  }
 },
 "nbformat": 4,
 "nbformat_minor": 5
}
